{
  "cells": [
    {
      "cell_type": "code",
      "execution_count": null,
      "metadata": {
        "id": "EiWZND_KDeuE"
      },
      "outputs": [],
      "source": []
    },
    {
      "cell_type": "markdown",
      "metadata": {
        "id": "DXNu96r8zHEN"
      },
      "source": [
        "Team Members:\n",
        "\n",
        "1. Roll - 24, Name - Md. Tauseef - Ur - Rahman <br>\n",
        "2. Roll - 29, Name - Sumaiya Tabassum\n",
        "\n",
        "\n",
        "**Problem Source URL**\n",
        "\n",
        "\n",
        "You should not specify the algorithm or give any hint in the prompt. You can only ask it to customize the code to submit in a particular platform."
      ]
    },
    {
      "cell_type": "markdown",
      "metadata": {
        "id": "erI8ajL816LJ"
      },
      "source": [
        "**Problem Source : CSES <br>\n",
        "**Algorithm :** Breadth First Search<br>\n",
        "**Problem Difficulty :** <br>\n",
        "**Problem Statement : https://cses.fi/problemset/task/1667/\n",
        "\n",
        "<br>\n",
        "\n",
        "**As the prompt, the problem statement was copied and pasted with the instruction of the language the solution needs to be coded in.**<br>\n",
        "\n",
        "**Prompt for all the models:**<br>\n",
        "Syrjälä's network has n computers and m connections. Your task is to find out if Uolevi can send a message to Maija, and if it is possible, what is the minimum number of computers on such a route.\n",
        "Input\n",
        "The first input line has two integers n and m: the number of computers and connections. The computers are numbered 1,2,\\dots,n. Uolevi's computer is 1 and Maija's computer is n.\n",
        "Then, there are m lines describing the connections. Each line has two integers a and b: there is a connection between those computers.\n",
        "Every connection is between two different computers, and there is at most one connection between any two computers.\n",
        "Output\n",
        "If it is possible to send a message, first print k: the minimum number of computers on a valid route. After this, print an example of such a route. You can print any valid solution.\n",
        "If there are no routes, print \"IMPOSSIBLE\". <br>\n",
        "\n",
        "Constraints:\n",
        "\n",
        "2 <= n <= 10^5 <br>\n",
        "1 <= m <= 2 * 10^5 <br>\n",
        "1 <= a, b <= n\n",
        "\n",
        "Example\n",
        "Input:\n",
        "5 5\n",
        "1 2\n",
        "1 3\n",
        "1 4\n",
        "2 3\n",
        "5 4\n",
        "\n",
        "Output:\n",
        "3\n",
        "1 4 5\n",
        "\n",
        "language in java"
      ]
    },
    {
      "cell_type": "markdown",
      "metadata": {
        "id": "Q9aI3es90bV-"
      },
      "source": [
        "# Solution from GPT-4o"
      ]
    },
    {
      "cell_type": "code",
      "execution_count": null,
      "metadata": {
        "id": "VzDVDDBDzAWw"
      },
      "outputs": [],
      "source": [
        "import java.util.*;\n",
        "\n",
        "public class MessageRoute {\n",
        "    public static void main(String[] args) {\n",
        "        Scanner sc = new Scanner(System.in);\n",
        "\n",
        "        // Input\n",
        "        int n = sc.nextInt();\n",
        "        int m = sc.nextInt();\n",
        "\n",
        "        // Graph representation using adjacency list\n",
        "        List<List<Integer>> graph = new ArrayList<>();\n",
        "        for (int i = 0; i <= n; i++) {\n",
        "            graph.add(new ArrayList<>());\n",
        "        }\n",
        "\n",
        "        // Reading edges\n",
        "        for (int i = 0; i < m; i++) {\n",
        "            int a = sc.nextInt();\n",
        "            int b = sc.nextInt();\n",
        "            graph.get(a).add(b);\n",
        "            graph.get(b).add(a);\n",
        "        }\n",
        "\n",
        "        // BFS setup\n",
        "        int[] parent = new int[n + 1]; // To track the path\n",
        "        boolean[] visited = new boolean[n + 1]; // To check if a node is visited\n",
        "        Queue<Integer> queue = new LinkedList<>();\n",
        "\n",
        "        // Start BFS from computer 1 (Uolevi's computer)\n",
        "        queue.add(1);\n",
        "        visited[1] = true;\n",
        "        parent[1] = -1; // Start node has no parent\n",
        "\n",
        "        while (!queue.isEmpty()) {\n",
        "            int node = queue.poll();\n",
        "\n",
        "            // Check all neighbors\n",
        "            for (int neighbor : graph.get(node)) {\n",
        "                if (!visited[neighbor]) {\n",
        "                    visited[neighbor] = true;\n",
        "                    parent[neighbor] = node; // Track parent for path reconstruction\n",
        "                    queue.add(neighbor);\n",
        "                }\n",
        "            }\n",
        "        }\n",
        "\n",
        "        // Check if there is a path to computer n (Maija's computer)\n",
        "        if (!visited[n]) {\n",
        "            System.out.println(\"IMPOSSIBLE\");\n",
        "        } else {\n",
        "            // Reconstruct the path from node n back to node 1 using the parent array\n",
        "            List<Integer> path = new ArrayList<>();\n",
        "            for (int node = n; node != -1; node = parent[node]) {\n",
        "                path.add(node);\n",
        "            }\n",
        "            Collections.reverse(path); // Reverse to get the correct order from 1 to n\n",
        "\n",
        "            // Output the result\n",
        "            System.out.println(path.size()); // Minimum number of computers on the route\n",
        "            for (int node : path) {\n",
        "                System.out.print(node + \" \");\n",
        "            }\n",
        "        }\n",
        "\n",
        "        sc.close();\n",
        "    }\n",
        "}\n"
      ]
    },
    {
      "cell_type": "markdown",
      "metadata": {
        "id": "slIMtyUA9o6z"
      },
      "source": [
        "Solution Summary:\n",
        "\n",
        "\n",
        "*   How did you share the prompt - Via Text\n",
        "*   Runtime:\n",
        "*   Verdict - Time limit exceeded\n",
        "*   (Optional) - Conversation URL -\n",
        "\n"
      ]
    },
    {
      "cell_type": "markdown",
      "metadata": {
        "id": "il9e3F8C0dY1"
      },
      "source": [
        "# Solution GPT 4"
      ]
    },
    {
      "cell_type": "code",
      "execution_count": null,
      "metadata": {
        "id": "LzMO9j5h0ezP"
      },
      "outputs": [],
      "source": [
        "import java.util.*;\n",
        "\n",
        "public class MessageRoute {\n",
        "    public static void main(String[] args) {\n",
        "        Scanner scanner = new Scanner(System.in);\n",
        "\n",
        "        int n = scanner.nextInt(); // number of computers\n",
        "        int m = scanner.nextInt(); // number of connections\n",
        "\n",
        "        List<List<Integer>> graph = new ArrayList<>();\n",
        "        for (int i = 0; i <= n; i++) {\n",
        "            graph.add(new ArrayList<>());\n",
        "        }\n",
        "\n",
        "        // Read edges\n",
        "        for (int i = 0; i < m; i++) {\n",
        "            int a = scanner.nextInt();\n",
        "            int b = scanner.nextInt();\n",
        "            graph.get(a).add(b);\n",
        "            graph.get(b).add(a);\n",
        "        }\n",
        "\n",
        "        // BFS to find the shortest path\n",
        "        int[] parent = new int[n + 1];\n",
        "        Arrays.fill(parent, -1);\n",
        "        boolean[] visited = new boolean[n + 1];\n",
        "        Queue<Integer> queue = new LinkedList<>();\n",
        "\n",
        "        visited[1] = true;\n",
        "        queue.add(1);\n",
        "\n",
        "        while (!queue.isEmpty()) {\n",
        "            int current = queue.poll();\n",
        "            if (current == n) {\n",
        "                break; // Found Maija's computer\n",
        "            }\n",
        "\n",
        "            for (int neighbor : graph.get(current)) {\n",
        "                if (!visited[neighbor]) {\n",
        "                    visited[neighbor] = true;\n",
        "                    parent[neighbor] = current;\n",
        "                    queue.add(neighbor);\n",
        "                }\n",
        "            }\n",
        "        }\n",
        "\n",
        "        // Check if we reached Maija's computer\n",
        "        if (!visited[n]) {\n",
        "            System.out.println(\"IMPOSSIBLE\");\n",
        "        } else {\n",
        "            // Reconstruct the path\n",
        "            List<Integer> path = new ArrayList<>();\n",
        "            for (int at = n; at != -1; at = parent[at]) {\n",
        "                path.add(at);\n",
        "            }\n",
        "            Collections.reverse(path); // Reverse to get the correct order\n",
        "\n",
        "            // Output the result\n",
        "            System.out.println(path.size());\n",
        "            for (int computer : path) {\n",
        "                System.out.print(computer + \" \");\n",
        "            }\n",
        "        }\n",
        "\n",
        "        scanner.close();\n",
        "    }\n",
        "}\n"
      ]
    },
    {
      "cell_type": "markdown",
      "metadata": {
        "id": "oCtg7_1M1J_I"
      },
      "source": [
        "Solution Summary:\n",
        "\n",
        "\n",
        "*   How did you share the prompt - Via Text\n",
        "*   Runtime:\n",
        "*   Verdict - Time limit exceeded\n",
        "*   (Optional) - Conversation URL -\n",
        "\n"
      ]
    },
    {
      "cell_type": "markdown",
      "metadata": {
        "id": "zBjCI9Hl0fHP"
      },
      "source": [
        "# Solution Gemini"
      ]
    },
    {
      "cell_type": "code",
      "execution_count": null,
      "metadata": {
        "id": "1R0yzMxR0kBf"
      },
      "outputs": [],
      "source": [
        "import java.util.*;\n",
        "\n",
        "public class MessageRoute  {\n",
        "    public static void main(String[] args) {\n",
        "        Scanner sc = new Scanner(System.in);\n",
        "\n",
        "        int n = sc.nextInt(); // Number of computers\n",
        "        int m = sc.nextInt(); // Number of connections\n",
        "\n",
        "        List<List<Integer>> graph = new ArrayList<>(n);\n",
        "        for (int i = 0; i < n; i++) {\n",
        "            graph.add(new ArrayList<>());\n",
        "        }\n",
        "\n",
        "        // Read connections\n",
        "        for (int i = 0; i < m; i++) {\n",
        "            int a = sc.nextInt() - 1;\n",
        "            int b = sc.nextInt() - 1;\n",
        "            graph.get(a).add(b);\n",
        "            graph.get(b).add(a); // Assuming undirected connections\n",
        "        }\n",
        "\n",
        "        int source = 0; // Uolevi's computer\n",
        "        int target = n - 1; // Maija's computer\n",
        "\n",
        "        if (bfs(graph, source, target)) {\n",
        "            System.out.println(shortestPath.size());\n",
        "            for (int computer : shortestPath) {\n",
        "                System.out.print(computer + 1 + \" \");\n",
        "            }\n",
        "            System.out.println();\n",
        "        } else {\n",
        "            System.out.println(\"IMPOSSIBLE\");\n",
        "        }\n",
        "    }\n",
        "\n",
        "    static List<Integer> shortestPath;\n",
        "\n",
        "    static boolean bfs(List<List<Integer>> graph, int source, int target) {\n",
        "        Queue<Integer> queue = new LinkedList<>();\n",
        "        Map<Integer, Integer> parent = new HashMap<>();\n",
        "        boolean[] visited = new boolean[graph.size()];\n",
        "\n",
        "        queue.add(source);\n",
        "        visited[source] = true;\n",
        "\n",
        "        while (!queue.isEmpty()) {\n",
        "            int current = queue.poll();\n",
        "\n",
        "            if (current == target) {\n",
        "                // Reconstruct the shortest path\n",
        "                shortestPath = new ArrayList<>();\n",
        "                int node = target;\n",
        "                while (node != source) {\n",
        "                    shortestPath.add(0, node + 1); // Add to the beginning\n",
        "                    node = parent.get(node);\n",
        "                }\n",
        "                shortestPath.add(0, source + 1); // Add source to the beginning\n",
        "                return true;\n",
        "            }\n",
        "\n",
        "            for (int neighbor : graph.get(current)) {\n",
        "                if (!visited[neighbor]) {\n",
        "                    queue.add(neighbor);\n",
        "                    visited[neighbor] = true;\n",
        "                    parent.put(neighbor, current);\n",
        "                }\n",
        "            }\n",
        "        }\n",
        "\n",
        "        return false; // No path found\n",
        "    }\n",
        "}"
      ]
    },
    {
      "cell_type": "markdown",
      "metadata": {
        "id": "mUiE21JB_BL7"
      },
      "source": [
        "Solution Summary:\n",
        "\n",
        "\n",
        "*   How did you share the prompt - Via Text\n",
        "*   Runtime:\n",
        "*   Verdict - Wrong Answer\n",
        "*   (Optional) - Conversation URL -\n",
        "\n"
      ]
    },
    {
      "cell_type": "markdown",
      "metadata": {
        "id": "Gfv82PSi0kTR"
      },
      "source": [
        "# Solution from Claude 3.5 sonnet"
      ]
    },
    {
      "cell_type": "code",
      "execution_count": null,
      "metadata": {
        "id": "JZh91TYN0pc-"
      },
      "outputs": [],
      "source": [
        "import java.util.*;\n",
        "\n",
        "public class MessageRoute {\n",
        "    public static void main(String[] args) {\n",
        "        Scanner scanner = new Scanner(System.in);\n",
        "        int n = scanner.nextInt(); // number of computers\n",
        "        int m = scanner.nextInt(); // number of connections\n",
        "\n",
        "        // Create an adjacency list to represent the graph\n",
        "        List<List<Integer>> graph = new ArrayList<>(n + 1);\n",
        "        for (int i = 0; i <= n; i++) {\n",
        "            graph.add(new ArrayList<>());\n",
        "        }\n",
        "\n",
        "        // Read the connections and build the graph\n",
        "        for (int i = 0; i < m; i++) {\n",
        "            int a = scanner.nextInt();\n",
        "            int b = scanner.nextInt();\n",
        "            graph.get(a).add(b);\n",
        "            graph.get(b).add(a);\n",
        "        }\n",
        "\n",
        "        // Perform BFS\n",
        "        int[] parent = new int[n + 1];\n",
        "        Arrays.fill(parent, -1);\n",
        "        Queue<Integer> queue = new LinkedList<>();\n",
        "        queue.offer(1);\n",
        "        parent[1] = 0;\n",
        "\n",
        "        while (!queue.isEmpty()) {\n",
        "            int current = queue.poll();\n",
        "            if (current == n) {\n",
        "                break; // Reached Maija's computer\n",
        "            }\n",
        "            for (int neighbor : graph.get(current)) {\n",
        "                if (parent[neighbor] == -1) {\n",
        "                    parent[neighbor] = current;\n",
        "                    queue.offer(neighbor);\n",
        "                }\n",
        "            }\n",
        "        }\n",
        "\n",
        "        // Check if a path exists and print the result\n",
        "        if (parent[n] == -1) {\n",
        "            System.out.println(\"IMPOSSIBLE\");\n",
        "        } else {\n",
        "            List<Integer> path = new ArrayList<>();\n",
        "            for (int at = n; at != 0; at = parent[at]) {\n",
        "                path.add(at);\n",
        "            }\n",
        "            Collections.reverse(path);\n",
        "\n",
        "            System.out.println(path.size());\n",
        "            for (int computer : path) {\n",
        "                System.out.print(computer + \" \");\n",
        "            }\n",
        "        }\n",
        "    }\n",
        "}\n"
      ]
    },
    {
      "cell_type": "markdown",
      "metadata": {
        "id": "PBIs9mPS1LIu"
      },
      "source": [
        "Solution Summary:\n",
        "\n",
        "\n",
        "*   How did you share the prompt - Via Text\n",
        "*   Runtime:\n",
        "*   Verdict -  Time limit exceeded\n",
        "*   (Optional) - Conversation URL -\n",
        "\n"
      ]
    },
    {
      "cell_type": "markdown",
      "metadata": {
        "id": "xz74BKxN1Lzn"
      },
      "source": [
        "# Correct Solution"
      ]
    },
    {
      "cell_type": "markdown",
      "metadata": {
        "id": "kxUDOLMCBSuw"
      },
      "source": [
        "All the solutions given above are correct."
      ]
    },
    {
      "cell_type": "code",
      "execution_count": null,
      "metadata": {
        "id": "TcM6ouvA1NQa"
      },
      "outputs": [],
      "source": [
        "import java.io.*;\n",
        "import java.util.*;\n",
        "\n",
        "public class MessageRoute {\n",
        "    static final int MAX_N = 100001;\n",
        "    static int N, M, K, a, b;\n",
        "    static int[] p = new int[MAX_N];\n",
        "    static int[] dist = new int[MAX_N];\n",
        "    static boolean[] vis = new boolean[MAX_N];\n",
        "    static List<List<Integer>> G = new ArrayList<>(MAX_N);\n",
        "    static Queue<Integer> Q = new LinkedList<>();\n",
        "\n",
        "    public static void main(String[] args) throws IOException {\n",
        "        BufferedReader br = new BufferedReader(new InputStreamReader(System.in));\n",
        "        StringTokenizer st = new StringTokenizer(br.readLine());\n",
        "\n",
        "        N = Integer.parseInt(st.nextToken());\n",
        "        M = Integer.parseInt(st.nextToken());\n",
        "\n",
        "        for (int i = 0; i <= N; i++) {\n",
        "            G.add(new ArrayList<>());\n",
        "        }\n",
        "\n",
        "        for (int i = 0; i < M; i++) {\n",
        "            st = new StringTokenizer(br.readLine());\n",
        "            a = Integer.parseInt(st.nextToken());\n",
        "            b = Integer.parseInt(st.nextToken());\n",
        "            G.get(a).add(b);\n",
        "            G.get(b).add(a);\n",
        "        }\n",
        "\n",
        "        Q.add(1);\n",
        "        vis[1] = true;\n",
        "\n",
        "        while (!Q.isEmpty()) {\n",
        "            int u = Q.poll();\n",
        "            for (int v : G.get(u)) {\n",
        "                if (!vis[v]) {\n",
        "                    dist[v] = dist[u] + 1;\n",
        "                    vis[v] = true;\n",
        "                    p[v] = u;\n",
        "                    Q.add(v);\n",
        "                }\n",
        "            }\n",
        "        }\n",
        "\n",
        "        if (!vis[N]) {\n",
        "            System.out.println(\"IMPOSSIBLE\");\n",
        "            return;\n",
        "        }\n",
        "\n",
        "        int u = N;\n",
        "        K = dist[N];\n",
        "        int[] ans = new int[K + 1];\n",
        "        for (int i = K; i >= 0; i--) {\n",
        "            ans[i] = u;\n",
        "            u = p[u];\n",
        "        }\n",
        "\n",
        "        System.out.println(K + 1);\n",
        "        for (int i = 0; i <= K; i++) {\n",
        "            System.out.print(ans[i] + (i == K ? \"\\n\" : \" \"));\n",
        "        }\n",
        "    }\n",
        "}\n"
      ]
    }
  ],
  "metadata": {
    "colab": {
      "provenance": []
    },
    "kernelspec": {
      "display_name": "Python 3",
      "name": "python3"
    },
    "language_info": {
      "name": "python"
    }
  },
  "nbformat": 4,
  "nbformat_minor": 0
}
